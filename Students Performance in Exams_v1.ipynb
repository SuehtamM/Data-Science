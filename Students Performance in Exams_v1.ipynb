{
 "cells": [
  {
   "cell_type": "markdown",
   "metadata": {},
   "source": [
    "# Análise exploratória de um dataset sobre notas escolares.\n",
    "O dataset utilizado como base de dados pode ser encontrado em: https://www.kaggle.com/spscientist/students-performance-in-exams\n",
    "\n",
    "Nesse notebook vamos analisar o dataset em questão e fazer algumas exibições de dados como:\n",
    "\n",
    "\n",
    "● Distribuição de notas por gênero e a influência de cursos de preparação nas notas;\n",
    "\n",
    "● Relação entre a escolaridade dos pais e as notas dos alunos;\n",
    "\n",
    "● Relação entre a nota de leitura e a nota de escrita;\n",
    "\n",
    "● Nota média para as 3 disciplinas por gênero;\n",
    "\n",
    "● Entre outros;\n",
    "\n",
    "\n",
    "O intuito desse notebook é apenas extrair, exibir e, se possível, correlacionar os dados a fim de inferir possíveis padrões e conclusões. O objetivo final é exercitar a utilização da linguagem python para extrair informações de bases de dados utilizando tabelas e gráficos.\n",
    "\n",
    "Para mais informações sobre os dados do dataset, visite o link acima.\n",
    "\n",
    "*Todas as traduções nesse arquivo são livres, ou seja, podem estar ligeiramente diferente da tradução que você fizer."
   ]
  },
  {
   "cell_type": "markdown",
   "metadata": {},
   "source": [
    "# Importando as bibliotecas e os dados\n",
    "Primeiro começamos com os imports:"
   ]
  },
  {
   "cell_type": "code",
   "execution_count": 1,
   "metadata": {},
   "outputs": [],
   "source": [
    "import pandas as pd\n",
    "import numpy as np\n",
    "import matplotlib.pyplot as plt\n",
    "import seaborn as sns\n",
    "sns.set_style(style = 'whitegrid')\n",
    "%matplotlib inline"
   ]
  },
  {
   "cell_type": "markdown",
   "metadata": {},
   "source": [
    "Com as bibliotecas importadas, vamos dar uma olhada nos dados:"
   ]
  },
  {
   "cell_type": "code",
   "execution_count": 2,
   "metadata": {},
   "outputs": [
    {
     "data": {
      "text/html": [
       "<div>\n",
       "<style scoped>\n",
       "    .dataframe tbody tr th:only-of-type {\n",
       "        vertical-align: middle;\n",
       "    }\n",
       "\n",
       "    .dataframe tbody tr th {\n",
       "        vertical-align: top;\n",
       "    }\n",
       "\n",
       "    .dataframe thead th {\n",
       "        text-align: right;\n",
       "    }\n",
       "</style>\n",
       "<table border=\"1\" class=\"dataframe\">\n",
       "  <thead>\n",
       "    <tr style=\"text-align: right;\">\n",
       "      <th></th>\n",
       "      <th>gender</th>\n",
       "      <th>race/ethnicity</th>\n",
       "      <th>parental level of education</th>\n",
       "      <th>lunch</th>\n",
       "      <th>test preparation course</th>\n",
       "      <th>math score</th>\n",
       "      <th>reading score</th>\n",
       "      <th>writing score</th>\n",
       "    </tr>\n",
       "  </thead>\n",
       "  <tbody>\n",
       "    <tr>\n",
       "      <th>0</th>\n",
       "      <td>female</td>\n",
       "      <td>group B</td>\n",
       "      <td>bachelor's degree</td>\n",
       "      <td>standard</td>\n",
       "      <td>none</td>\n",
       "      <td>72</td>\n",
       "      <td>72</td>\n",
       "      <td>74</td>\n",
       "    </tr>\n",
       "    <tr>\n",
       "      <th>1</th>\n",
       "      <td>female</td>\n",
       "      <td>group C</td>\n",
       "      <td>some college</td>\n",
       "      <td>standard</td>\n",
       "      <td>completed</td>\n",
       "      <td>69</td>\n",
       "      <td>90</td>\n",
       "      <td>88</td>\n",
       "    </tr>\n",
       "    <tr>\n",
       "      <th>2</th>\n",
       "      <td>female</td>\n",
       "      <td>group B</td>\n",
       "      <td>master's degree</td>\n",
       "      <td>standard</td>\n",
       "      <td>none</td>\n",
       "      <td>90</td>\n",
       "      <td>95</td>\n",
       "      <td>93</td>\n",
       "    </tr>\n",
       "    <tr>\n",
       "      <th>3</th>\n",
       "      <td>male</td>\n",
       "      <td>group A</td>\n",
       "      <td>associate's degree</td>\n",
       "      <td>free/reduced</td>\n",
       "      <td>none</td>\n",
       "      <td>47</td>\n",
       "      <td>57</td>\n",
       "      <td>44</td>\n",
       "    </tr>\n",
       "    <tr>\n",
       "      <th>4</th>\n",
       "      <td>male</td>\n",
       "      <td>group C</td>\n",
       "      <td>some college</td>\n",
       "      <td>standard</td>\n",
       "      <td>none</td>\n",
       "      <td>76</td>\n",
       "      <td>78</td>\n",
       "      <td>75</td>\n",
       "    </tr>\n",
       "  </tbody>\n",
       "</table>\n",
       "</div>"
      ],
      "text/plain": [
       "   gender race/ethnicity parental level of education         lunch  \\\n",
       "0  female        group B           bachelor's degree      standard   \n",
       "1  female        group C                some college      standard   \n",
       "2  female        group B             master's degree      standard   \n",
       "3    male        group A          associate's degree  free/reduced   \n",
       "4    male        group C                some college      standard   \n",
       "\n",
       "  test preparation course  math score  reading score  writing score  \n",
       "0                    none          72             72             74  \n",
       "1               completed          69             90             88  \n",
       "2                    none          90             95             93  \n",
       "3                    none          47             57             44  \n",
       "4                    none          76             78             75  "
      ]
     },
     "execution_count": 2,
     "metadata": {},
     "output_type": "execute_result"
    }
   ],
   "source": [
    "df = pd.read_csv(\"StudentsPerformance.csv\")\n",
    "df.head()"
   ]
  },
  {
   "cell_type": "code",
   "execution_count": 3,
   "metadata": {},
   "outputs": [
    {
     "data": {
      "text/plain": [
       "False"
      ]
     },
     "execution_count": 3,
     "metadata": {},
     "output_type": "execute_result"
    }
   ],
   "source": [
    "True in df.isnull()"
   ]
  },
  {
   "cell_type": "code",
   "execution_count": 23,
   "metadata": {},
   "outputs": [
    {
     "data": {
      "text/plain": [
       "False"
      ]
     },
     "execution_count": 23,
     "metadata": {},
     "output_type": "execute_result"
    }
   ],
   "source": [
    "True in df.isna()"
   ]
  },
  {
   "cell_type": "code",
   "execution_count": 4,
   "metadata": {},
   "outputs": [
    {
     "data": {
      "text/plain": [
       "RangeIndex(start=0, stop=1000, step=1)"
      ]
     },
     "execution_count": 4,
     "metadata": {},
     "output_type": "execute_result"
    }
   ],
   "source": [
    "df.index"
   ]
  },
  {
   "cell_type": "code",
   "execution_count": 5,
   "metadata": {},
   "outputs": [],
   "source": [
    "df_i = df.drop(labels = ['math score','reading score','writing score'], axis = 1)"
   ]
  },
  {
   "cell_type": "code",
   "execution_count": 6,
   "metadata": {},
   "outputs": [
    {
     "name": "stdout",
     "output_type": "stream",
     "text": [
      "\n",
      "Os valores únicos da coluna gender são: ['female' 'male']\n",
      "\n",
      "Os valores únicos da coluna race/ethnicity são: ['group B' 'group C' 'group A' 'group D' 'group E']\n",
      "\n",
      "Os valores únicos da coluna parental level of education são: [\"bachelor's degree\" 'some college' \"master's degree\" \"associate's degree\"\n",
      " 'high school' 'some high school']\n",
      "\n",
      "Os valores únicos da coluna lunch são: ['standard' 'free/reduced']\n",
      "\n",
      "Os valores únicos da coluna test preparation course são: ['none' 'completed']\n"
     ]
    }
   ],
   "source": [
    "for coluna in df_i.columns:\n",
    "    print(f'\\nOs valores únicos da coluna {coluna} são:', df_i[coluna].unique())"
   ]
  },
  {
   "cell_type": "markdown",
   "metadata": {},
   "source": [
    "Agora que sabemos os possíveis dados em cada coluna, excluindo as colunas de notas, e que não existem valores nulos no dataset, podemos começar ajusta o dataset para visualizar de fato as informações e relações entre esses dados.\n",
    "\n",
    "Note que na coluna 'test preparation course' temos como entrada 'none' em algumas linhas. Podemos partir do ponto de vista que esses dados deveriam ser dados missing. Mas como não existe nenhuma especificação de qual tipo de curso os alunos fizeram, nem nessa mesma coluna nem em outra, logo, podemos considerar 'none' como uma entrada válida que siginifica que esse aluno não fez nenhum curso preparatório."
   ]
  },
  {
   "cell_type": "markdown",
   "metadata": {},
   "source": [
    "Uma possível forma de classificar os alunos por meio de suas notas seria calcular a média simples ou ponderada de cada um. Vamos considerar que cada nota tem um mesmo peso para aprovação, portanto, caso a média do(a) aluno(a) seja maior que 60 pontos, ele(a) será aprovado(a). Caso contrário, será reprovado(a).\n",
    "\n",
    "Sendo assim, vamos adicionar duas colunas ao dataset: mean e approvation."
   ]
  },
  {
   "cell_type": "code",
   "execution_count": 7,
   "metadata": {},
   "outputs": [],
   "source": [
    "mean = [round(((df['math score'][line]+df['reading score'][line]+df['writing score'][line])/3),2) for line in df.index]\n",
    "df['mean'] = mean"
   ]
  },
  {
   "cell_type": "code",
   "execution_count": 8,
   "metadata": {},
   "outputs": [],
   "source": [
    "approvation = ['Yes' if score>=60 else 'No' for score in df['mean']]\n",
    "df['approvation'] = approvation"
   ]
  },
  {
   "cell_type": "code",
   "execution_count": 9,
   "metadata": {
    "scrolled": true
   },
   "outputs": [
    {
     "data": {
      "text/html": [
       "<div>\n",
       "<style scoped>\n",
       "    .dataframe tbody tr th:only-of-type {\n",
       "        vertical-align: middle;\n",
       "    }\n",
       "\n",
       "    .dataframe tbody tr th {\n",
       "        vertical-align: top;\n",
       "    }\n",
       "\n",
       "    .dataframe thead th {\n",
       "        text-align: right;\n",
       "    }\n",
       "</style>\n",
       "<table border=\"1\" class=\"dataframe\">\n",
       "  <thead>\n",
       "    <tr style=\"text-align: right;\">\n",
       "      <th></th>\n",
       "      <th>gender</th>\n",
       "      <th>race/ethnicity</th>\n",
       "      <th>parental level of education</th>\n",
       "      <th>lunch</th>\n",
       "      <th>test preparation course</th>\n",
       "      <th>math score</th>\n",
       "      <th>reading score</th>\n",
       "      <th>writing score</th>\n",
       "      <th>mean</th>\n",
       "      <th>approvation</th>\n",
       "    </tr>\n",
       "  </thead>\n",
       "  <tbody>\n",
       "    <tr>\n",
       "      <th>0</th>\n",
       "      <td>female</td>\n",
       "      <td>group B</td>\n",
       "      <td>bachelor's degree</td>\n",
       "      <td>standard</td>\n",
       "      <td>none</td>\n",
       "      <td>72</td>\n",
       "      <td>72</td>\n",
       "      <td>74</td>\n",
       "      <td>72.67</td>\n",
       "      <td>Yes</td>\n",
       "    </tr>\n",
       "    <tr>\n",
       "      <th>1</th>\n",
       "      <td>female</td>\n",
       "      <td>group C</td>\n",
       "      <td>some college</td>\n",
       "      <td>standard</td>\n",
       "      <td>completed</td>\n",
       "      <td>69</td>\n",
       "      <td>90</td>\n",
       "      <td>88</td>\n",
       "      <td>82.33</td>\n",
       "      <td>Yes</td>\n",
       "    </tr>\n",
       "    <tr>\n",
       "      <th>2</th>\n",
       "      <td>female</td>\n",
       "      <td>group B</td>\n",
       "      <td>master's degree</td>\n",
       "      <td>standard</td>\n",
       "      <td>none</td>\n",
       "      <td>90</td>\n",
       "      <td>95</td>\n",
       "      <td>93</td>\n",
       "      <td>92.67</td>\n",
       "      <td>Yes</td>\n",
       "    </tr>\n",
       "    <tr>\n",
       "      <th>3</th>\n",
       "      <td>male</td>\n",
       "      <td>group A</td>\n",
       "      <td>associate's degree</td>\n",
       "      <td>free/reduced</td>\n",
       "      <td>none</td>\n",
       "      <td>47</td>\n",
       "      <td>57</td>\n",
       "      <td>44</td>\n",
       "      <td>49.33</td>\n",
       "      <td>No</td>\n",
       "    </tr>\n",
       "    <tr>\n",
       "      <th>4</th>\n",
       "      <td>male</td>\n",
       "      <td>group C</td>\n",
       "      <td>some college</td>\n",
       "      <td>standard</td>\n",
       "      <td>none</td>\n",
       "      <td>76</td>\n",
       "      <td>78</td>\n",
       "      <td>75</td>\n",
       "      <td>76.33</td>\n",
       "      <td>Yes</td>\n",
       "    </tr>\n",
       "  </tbody>\n",
       "</table>\n",
       "</div>"
      ],
      "text/plain": [
       "   gender race/ethnicity parental level of education         lunch  \\\n",
       "0  female        group B           bachelor's degree      standard   \n",
       "1  female        group C                some college      standard   \n",
       "2  female        group B             master's degree      standard   \n",
       "3    male        group A          associate's degree  free/reduced   \n",
       "4    male        group C                some college      standard   \n",
       "\n",
       "  test preparation course  math score  reading score  writing score   mean  \\\n",
       "0                    none          72             72             74  72.67   \n",
       "1               completed          69             90             88  82.33   \n",
       "2                    none          90             95             93  92.67   \n",
       "3                    none          47             57             44  49.33   \n",
       "4                    none          76             78             75  76.33   \n",
       "\n",
       "  approvation  \n",
       "0         Yes  \n",
       "1         Yes  \n",
       "2         Yes  \n",
       "3          No  \n",
       "4         Yes  "
      ]
     },
     "execution_count": 9,
     "metadata": {},
     "output_type": "execute_result"
    }
   ],
   "source": [
    "df.head()"
   ]
  },
  {
   "cell_type": "markdown",
   "metadata": {},
   "source": [
    "# Visualizando as informações\n",
    "Vamos começar verificando a distribuição por gênero:"
   ]
  },
  {
   "cell_type": "code",
   "execution_count": 10,
   "metadata": {},
   "outputs": [
    {
     "data": {
      "image/png": "[encoded data removed]",
      "text/plain": [
       "<Figure size 720x360 with 1 Axes>"
      ]
     },
     "metadata": {},
     "output_type": "display_data"
    }
   ],
   "source": [
    "plt.figure(figsize=(10,5))\n",
    "plt.pie(df['gender'].value_counts(), labels = df['gender'].unique(), autopct = \"%.f%%\", shadow = True, startangle=90,\n",
    "       colors = ['tomato', 'c'])\n",
    "plt.title('Gender %', fontsize=16)\n",
    "plt.show()"
   ]
  },
  {
   "cell_type": "markdown",
   "metadata": {},
   "source": [
    "São mais mulhers (51.8%) do que homens (48.2%). Vamos verificar a distribuição das notas de cada matéria e da média, e vamos ver também a porcentagem de alunos aprovados:"
   ]
  },
  {
   "cell_type": "code",
   "execution_count": 11,
   "metadata": {},
   "outputs": [
    {
     "data": {
      "image/png": "[encoded data removed]",
      "text/plain": [
       "<Figure size 1080x360 with 4 Axes>"
      ]
     },
     "metadata": {
      "needs_background": "light"
     },
     "output_type": "display_data"
    }
   ],
   "source": [
    "plt.figure(figsize=(15,5))\n",
    "\n",
    "plt.subplot(1,4,1)\n",
    "plt.hist(x = 'math score', data = df, bins = 25, color = 'cornflowerblue')\n",
    "plt.axvline(df['math score'].mean(), color = 'k', linestyle='dashed', linewidth=1)\n",
    "plt.title('Math score')\n",
    "plt.xlabel('Score')\n",
    "plt.ylabel('Number of students')\n",
    "plt.ylim((0,110))\n",
    "plt.xlim((0,105))\n",
    "plt.grid()\n",
    "\n",
    "plt.subplot(1,4,2)\n",
    "plt.hist(x = 'reading score', data = df, bins = 25, color = 'cornflowerblue')\n",
    "plt.axvline(df['reading score'].mean(), color = 'k', linestyle='dashed', linewidth=1)\n",
    "plt.title('Reading score')\n",
    "plt.xlabel('Score')\n",
    "plt.ylim((0,110))\n",
    "plt.xlim()\n",
    "plt.grid()\n",
    "\n",
    "plt.subplot(1,4,3)\n",
    "plt.hist(x = 'writing score', data = df, bins = 25, color = 'cornflowerblue')\n",
    "plt.axvline(df['writing score'].mean(), color = 'k', linestyle='dashed', linewidth=1)\n",
    "plt.title('Writing score')\n",
    "plt.xlabel('Score')\n",
    "plt.ylim((0,110))\n",
    "plt.xlim((0,105))\n",
    "plt.grid()\n",
    "\n",
    "plt.subplot(1,4,4)\n",
    "plt.hist(x = 'mean', data = df, bins = 25, color = 'cornflowerblue')\n",
    "plt.axvline(df['mean'].mean(), color = 'k', linestyle='dashed', linewidth=1)\n",
    "plt.title('Mean')\n",
    "plt.xlabel('Score')\n",
    "plt.ylim((0,110))\n",
    "plt.xlim((0,105))\n",
    "plt.grid()"
   ]
  },
  {
   "cell_type": "code",
   "execution_count": 12,
   "metadata": {},
   "outputs": [
    {
     "name": "stdout",
     "output_type": "stream",
     "text": [
      "As médias de cada matéria, mostradas nos histogramas acima como linha preta pontilhada, são:\n",
      "Math       66.09\n",
      "Reading    69.17\n",
      "Writing    68.05\n",
      "Mean       67.77\n",
      "dtype: float64\n"
     ]
    }
   ],
   "source": [
    "means = pd.Series({'Math':round(df['math score'].mean(),2),\n",
    "                   'Reading':round(df['reading score'].mean(),2),\n",
    "                   'Writing':round(df['writing score'].mean(),2),\n",
    "                   'Mean':round(df['mean'].mean(),2)})\n",
    "print('As médias de cada matéria, mostradas nos histogramas acima como linha preta pontilhada, são:\\n',means, sep='')"
   ]
  },
  {
   "cell_type": "code",
   "execution_count": 13,
   "metadata": {},
   "outputs": [
    {
     "name": "stdout",
     "output_type": "stream",
     "text": [
      "Dos 1000 alunos, 715 foram aprovados e 285 foram reprovados.\n",
      "Ou 71.5% aprovados e 28.5% reprovados.\n",
      "\n",
      "Do total de alunos, 321 são homens (32.1%) e 394 são mulheres (39.4%).\n",
      "E dos reprovados, 161 são homens (16.1%) e 124 são mulheres (12.4%).\n",
      "\n"
     ]
    }
   ],
   "source": [
    "approved, appr_male, disap_male, appr_female, disap_female = 0,0,0,0,0\n",
    "for data in df['approvation']:\n",
    "    if data == 'Yes':\n",
    "        approved += 1\n",
    "        \n",
    "disapproved = df['approvation'].count() - approved\n",
    "total = approved + disapproved\n",
    "\n",
    "for i in df['approvation'].index:\n",
    "    if df['approvation'][i] == 'Yes' and df['gender'][i] == 'male':\n",
    "        appr_male += 1\n",
    "    elif df['approvation'][i] == 'No' and df['gender'][i] == 'male':\n",
    "        disap_male += 1\n",
    "    elif df['approvation'][i] == 'Yes' and df['gender'][i] == 'female':\n",
    "        appr_female += 1\n",
    "    else:\n",
    "        disap_female += 1\n",
    "\n",
    "#total approved/disapproved\n",
    "print(f\"Dos {total} alunos, {approved} foram aprovados e {disapproved} foram reprovados.\")\n",
    "\n",
    "#total approved/disapproved percentage\n",
    "print(f\"Ou {round((approved/total*100),1)}% aprovados e {round((disapproved/total*100), 1)}% reprovados.\\n\")\n",
    "\n",
    "#approved by gender\n",
    "print(f\"Do total de alunos, {appr_male} são homens ({round(appr_male/total*100,1)}%) e \\\n",
    "{appr_female} são mulheres ({round(appr_female/total*100,1)}%).\")\n",
    "\n",
    "#disapproved by gender\n",
    "print(f\"E dos reprovados, {disap_male} são homens ({round(disap_male/total*100,1)}%) e \\\n",
    "{disap_female} são mulheres ({round(disap_female/total*100,1)}%).\\n\")"
   ]
  },
  {
   "cell_type": "markdown",
   "metadata": {},
   "source": [
    "Graficamente:"
   ]
  },
  {
   "cell_type": "code",
   "execution_count": 14,
   "metadata": {},
   "outputs": [
    {
     "data": {
      "image/png": "[encoded data removed]",
      "text/plain": [
       "<Figure size 864x576 with 1 Axes>"
      ]
     },
     "metadata": {},
     "output_type": "display_data"
    }
   ],
   "source": [
    "plt.figure(figsize=(12,8))\n",
    "plt.pie(x = [approved,disapproved], autopct = '%.1f%%', pctdistance=.85,\n",
    "        radius = 1, colors = ['seagreen','r'],wedgeprops=dict(width=.3))\n",
    "plt.pie(x = [appr_male,appr_female,disap_male,disap_female], autopct = '%.1f%%', pctdistance=.8,\n",
    "        colors = ['paleturquoise','salmon','c','tomato'] ,radius = .7, wedgeprops=dict(width=.3))\n",
    "plt.legend(('Approved total','Disapproved total','Approved Male','Approved Female', 'Disapproved Male','Disapproved Female'))\n",
    "plt.title('Approvation/Disapprovation', fontsize=16)\n",
    "plt.show()"
   ]
  },
  {
   "cell_type": "markdown",
   "metadata": {},
   "source": [
    "Com os histogramas apresentados podemos constatar que apenas em matemática algum(s) aluno(s) teve uma nota bem próxima de zero. Como as médias das matérias individuais são todas maiores que 60, já podemos inferir que a média dos alunos seriam aprovados. O dado mais preciso, como mostrado acima, é que 71.5% dos alunos foram aprovados e desses, a maior parte são mulheres.\n",
    "Outro ponto interessante é que a distribuição das notas de leitura é diferente da distribuição das notas de escrita. Mesmo assim as médias são parecidas. Isso significa, nessa análise para esse dataset, que na média, leitura e escrita são complementares. A nota de leitura contribui para a nota de escrita, e vice-versa. Faz sentido, já que estudos comprovam que quem lê bastante tende a ter uma escrita melhor do que quem lê pouco.\n",
    "\n",
    "Agora veremos qual a influência da escolaridade dos pais dos alunos em relação às suas notas."
   ]
  },
  {
   "cell_type": "code",
   "execution_count": 15,
   "metadata": {},
   "outputs": [
    {
     "data": {
      "image/png": "[encoded data removed]",
      "text/plain": [
       "<Figure size 1080x360 with 4 Axes>"
      ]
     },
     "metadata": {
      "needs_background": "light"
     },
     "output_type": "display_data"
    }
   ],
   "source": [
    "plt.figure(figsize=(15,5))\n",
    "\n",
    "plt.subplot(1,4,1)\n",
    "plt.xticks(rotation = 90)\n",
    "plt.ylim((0,80))\n",
    "sns.barplot(x = 'parental level of education', y = 'math score', palette = 'Blues', \n",
    "            order = ['some high school','high school','some college',\"associate's degree\",\"bachelor's degree\",\n",
    "                     \"master's degree\"], errwidth = 0, data = df)\n",
    "\n",
    "\n",
    "plt.subplot(1,4,2)\n",
    "plt.xticks(rotation = 90)\n",
    "plt.ylim((0,80))\n",
    "sns.barplot(x = 'parental level of education', y = 'reading score', palette = 'Blues',\n",
    "            order = ['some high school','high school','some college',\"associate's degree\",\"bachelor's degree\",\n",
    "                    \"master's degree\"], errwidth = 0, data = df)\n",
    "\n",
    "\n",
    "plt.subplot(1,4,3)\n",
    "plt.xticks(rotation = 90)\n",
    "plt.ylim((0,80))\n",
    "sns.barplot(x = 'parental level of education', y = 'writing score', palette = 'Blues', \n",
    "            order = ['some high school','high school','some college',\"associate's degree\",\"bachelor's degree\",\n",
    "                    \"master's degree\"], errwidth = 0, data = df)\n",
    "\n",
    "\n",
    "plt.subplot(1,4,4)\n",
    "plt.xticks(rotation = 90)\n",
    "plt.ylim((0,80))\n",
    "sns.barplot(x = 'parental level of education', y = 'mean', palette = 'Blues',\n",
    "            order = ['some high school','high school','some college',\"associate's degree\",\"bachelor's degree\",\n",
    "                    \"master's degree\"], errwidth = 0, data = df)\n",
    "plt.show()"
   ]
  },
  {
   "cell_type": "markdown",
   "metadata": {},
   "source": [
    "Os níveis de escolaridade apresentados podem ser interpretados como:\n",
    "-Some high school: Ensino médio incompleto;\n",
    "-High school: Ensino médio completo;\n",
    "-Some college: Até o segundo ano de faculdade;\n",
    "-Associate's degree: Até o segundo ano de faculdade ou curso técnico/tecnólogo completo;\n",
    "-Bachelor's degree: Ensino superior completo;\n",
    "-Master's degree: Mestrado completo.\n",
    "\n",
    "Podemos ver claramente que quanto maior o nível de escolaridade dos pais, com exceção ao nível high school (ensino médio completo), maiores as notas individuais, portanto, maiores as médias.\n",
    "Não é possível afirmar o porquê dessa redução na nota no nível high school. Pode ser por uma maior dificuldade de aprendizado desses alunos, falta de acompanhamento dos pais nos estudos dos filhos (tanto por desinteresse quanto por falta de tempo por causa do trabalho e/ou outras atividades do cotidiano), entre outros motivos. Para concluirmos algo, seria necessário mais informações."
   ]
  },
  {
   "cell_type": "markdown",
   "metadata": {},
   "source": [
    "Agora veremos a influência de cursos preparatórios nas notas finais dos alunos."
   ]
  },
  {
   "cell_type": "code",
   "execution_count": 16,
   "metadata": {},
   "outputs": [
    {
     "data": {
      "image/png": "[encoded data removed]",
      "text/plain": [
       "<Figure size 1080x360 with 4 Axes>"
      ]
     },
     "metadata": {
      "needs_background": "light"
     },
     "output_type": "display_data"
    }
   ],
   "source": [
    "plt.figure(figsize=(15,5))\n",
    "\n",
    "plt.subplot(1,4,1)\n",
    "plt.ylim((0,75))\n",
    "sns.barplot(x = 'test preparation course', y = 'math score', errwidth = 0, palette = 'autumn_r',data = df)\n",
    "\n",
    "plt.subplot(1,4,2)\n",
    "plt.ylim((0,75))\n",
    "sns.barplot(x = 'test preparation course', y = 'reading score', errwidth = 0, palette = 'autumn_r',data = df)\n",
    "\n",
    "plt.subplot(1,4,3)\n",
    "plt.ylim((0,75))\n",
    "sns.barplot(x = 'test preparation course', y = 'writing score', errwidth = 0, palette = 'autumn_r', data = df)\n",
    "\n",
    "plt.subplot(1,4,4)\n",
    "plt.ylim((0,75))\n",
    "sns.barplot(x = 'test preparation course', y = 'mean', errwidth = 0, palette = 'autumn_r',data = df)\n",
    "\n",
    "plt.show()"
   ]
  },
  {
   "cell_type": "markdown",
   "metadata": {},
   "source": [
    "Para esse estudo, os cursos de preparação se converteram em notas maiores. Vale ressaltar que não é especificado qual o tipo de curso (reforço ou aula particular), duração ou frequência (1h todos os dias, 4h três dias na semana, etc.). Portanto não podemos afirmar nem que o aumento da nota foi satisfatório e nem que foi abaixo do esperado."
   ]
  },
  {
   "cell_type": "markdown",
   "metadata": {},
   "source": [
    "Vejamos se algum grupo étnico possui notas maiores:"
   ]
  },
  {
   "cell_type": "code",
   "execution_count": 17,
   "metadata": {},
   "outputs": [
    {
     "data": {
      "text/plain": [
       "<matplotlib.axes._subplots.AxesSubplot at 0x19fcd36aa08>"
      ]
     },
     "execution_count": 17,
     "metadata": {},
     "output_type": "execute_result"
    },
    {
     "data": {
      "image/png": "[encoded data removed]",
      "text/plain": [
       "<Figure size 504x360 with 1 Axes>"
      ]
     },
     "metadata": {
      "needs_background": "light"
     },
     "output_type": "display_data"
    }
   ],
   "source": [
    "plt.figure(figsize=(7,5))\n",
    "sns.barplot(x = 'mean', y = 'race/ethnicity', hue = 'gender', data = df, errwidth=0,\n",
    "           order = ['group A','group B','group C','group D','group E'], orient= \"h\",\n",
    "           palette = ['tomato', 'c'])"
   ]
  },
  {
   "cell_type": "markdown",
   "metadata": {},
   "source": [
    "Novamente, as meninas tem média maior que os meninos. Isso vale para todos os grupos étnicos. Podemos ver ainda que do grupo A ao E as médias vão aumentando. Não podemos atribuir esse aumento de média por grupo a uma condição específica já que não temos mais dados sobre os alunos.\n",
    "\n",
    "Uma informação que podemos extrair do dataset é a possível classe econômica dos alunos. Vamos verificar o tipo de almoço na coluna lunch do dataset que só possui 2 entradas: standard (padrão) e free/reduced (reduzido) e se esse aluno completou algum curso de preparação. Se o(a) aluno(a) tem alimentação normal e concluiu um curso de preparação, ele(a) fará parte da classe econômica mais alta, e se sua alimentação é reduzida e ele não concluiu nenhum curso, fará parte da classe econômica mais baixa. Vamos supor também que o curso de preparação seja pago. Assim, considerando um aluno que não tem alimentação adequada, podemos inferir que ele tem maiores chances de ter uma nota mais baixa, tanto pela questão alimentar quanto por não poder fazer um curso de preparação por falta de dinheiro.\n",
    "\n",
    "Para isso vamos criar uma nova coluna chamada 'Economical class' que terá como entrada 'high' para almoço normal e curso concluído, 'medium' para almoço normal/curso não concluído e 'low' para almoço reduzido e curso não concluído. Caso tenhamos um aluno com almoço reduzido e curso concluído a entrada será 'scholarship', pois como estamos premissando que o curso seja pago, um aluno que tem dificuldades em ter uma alimentação adequada provavelmente não tem condições de pagar um curso de preparação. Mas isso não o impede de ter uma bolsa de estudos."
   ]
  },
  {
   "cell_type": "code",
   "execution_count": 18,
   "metadata": {},
   "outputs": [
    {
     "data": {
      "text/html": [
       "<div>\n",
       "<style scoped>\n",
       "    .dataframe tbody tr th:only-of-type {\n",
       "        vertical-align: middle;\n",
       "    }\n",
       "\n",
       "    .dataframe tbody tr th {\n",
       "        vertical-align: top;\n",
       "    }\n",
       "\n",
       "    .dataframe thead th {\n",
       "        text-align: right;\n",
       "    }\n",
       "</style>\n",
       "<table border=\"1\" class=\"dataframe\">\n",
       "  <thead>\n",
       "    <tr style=\"text-align: right;\">\n",
       "      <th></th>\n",
       "      <th>gender</th>\n",
       "      <th>race/ethnicity</th>\n",
       "      <th>parental level of education</th>\n",
       "      <th>lunch</th>\n",
       "      <th>test preparation course</th>\n",
       "      <th>math score</th>\n",
       "      <th>reading score</th>\n",
       "      <th>writing score</th>\n",
       "      <th>mean</th>\n",
       "      <th>approvation</th>\n",
       "      <th>Economical class</th>\n",
       "    </tr>\n",
       "  </thead>\n",
       "  <tbody>\n",
       "    <tr>\n",
       "      <th>0</th>\n",
       "      <td>female</td>\n",
       "      <td>group B</td>\n",
       "      <td>bachelor's degree</td>\n",
       "      <td>standard</td>\n",
       "      <td>none</td>\n",
       "      <td>72</td>\n",
       "      <td>72</td>\n",
       "      <td>74</td>\n",
       "      <td>72.67</td>\n",
       "      <td>Yes</td>\n",
       "      <td>Medium</td>\n",
       "    </tr>\n",
       "    <tr>\n",
       "      <th>1</th>\n",
       "      <td>female</td>\n",
       "      <td>group C</td>\n",
       "      <td>some college</td>\n",
       "      <td>standard</td>\n",
       "      <td>completed</td>\n",
       "      <td>69</td>\n",
       "      <td>90</td>\n",
       "      <td>88</td>\n",
       "      <td>82.33</td>\n",
       "      <td>Yes</td>\n",
       "      <td>High</td>\n",
       "    </tr>\n",
       "    <tr>\n",
       "      <th>2</th>\n",
       "      <td>female</td>\n",
       "      <td>group B</td>\n",
       "      <td>master's degree</td>\n",
       "      <td>standard</td>\n",
       "      <td>none</td>\n",
       "      <td>90</td>\n",
       "      <td>95</td>\n",
       "      <td>93</td>\n",
       "      <td>92.67</td>\n",
       "      <td>Yes</td>\n",
       "      <td>Medium</td>\n",
       "    </tr>\n",
       "    <tr>\n",
       "      <th>3</th>\n",
       "      <td>male</td>\n",
       "      <td>group A</td>\n",
       "      <td>associate's degree</td>\n",
       "      <td>free/reduced</td>\n",
       "      <td>none</td>\n",
       "      <td>47</td>\n",
       "      <td>57</td>\n",
       "      <td>44</td>\n",
       "      <td>49.33</td>\n",
       "      <td>No</td>\n",
       "      <td>Low</td>\n",
       "    </tr>\n",
       "    <tr>\n",
       "      <th>4</th>\n",
       "      <td>male</td>\n",
       "      <td>group C</td>\n",
       "      <td>some college</td>\n",
       "      <td>standard</td>\n",
       "      <td>none</td>\n",
       "      <td>76</td>\n",
       "      <td>78</td>\n",
       "      <td>75</td>\n",
       "      <td>76.33</td>\n",
       "      <td>Yes</td>\n",
       "      <td>Medium</td>\n",
       "    </tr>\n",
       "  </tbody>\n",
       "</table>\n",
       "</div>"
      ],
      "text/plain": [
       "   gender race/ethnicity parental level of education         lunch  \\\n",
       "0  female        group B           bachelor's degree      standard   \n",
       "1  female        group C                some college      standard   \n",
       "2  female        group B             master's degree      standard   \n",
       "3    male        group A          associate's degree  free/reduced   \n",
       "4    male        group C                some college      standard   \n",
       "\n",
       "  test preparation course  math score  reading score  writing score   mean  \\\n",
       "0                    none          72             72             74  72.67   \n",
       "1               completed          69             90             88  82.33   \n",
       "2                    none          90             95             93  92.67   \n",
       "3                    none          47             57             44  49.33   \n",
       "4                    none          76             78             75  76.33   \n",
       "\n",
       "  approvation Economical class  \n",
       "0         Yes           Medium  \n",
       "1         Yes             High  \n",
       "2         Yes           Medium  \n",
       "3          No              Low  \n",
       "4         Yes           Medium  "
      ]
     },
     "execution_count": 18,
     "metadata": {},
     "output_type": "execute_result"
    }
   ],
   "source": [
    "economical_class = []\n",
    "for i in df.index:\n",
    "    if df['lunch'][i] == 'standard' and df['test preparation course'][i] == 'completed':\n",
    "        economical_class.append('High')\n",
    "    elif df['lunch'][i] == 'free/reduced' and df['test preparation course'][i] == 'none':\n",
    "        economical_class.append('Low')\n",
    "    elif df['lunch'][i] == 'free/reduced' and df['test preparation course'][i] == 'completed':\n",
    "        economical_class.append('Scholarship')\n",
    "    else:\n",
    "        economical_class.append('Medium')\n",
    "        \n",
    "df['Economical class'] = economical_class\n",
    "df.head()"
   ]
  },
  {
   "cell_type": "markdown",
   "metadata": {},
   "source": [
    "Agora vamos verificar se algum aluno se encaixa na categoria de bolsa de estudos:"
   ]
  },
  {
   "cell_type": "code",
   "execution_count": 19,
   "metadata": {},
   "outputs": [
    {
     "data": {
      "text/plain": [
       "True"
      ]
     },
     "execution_count": 19,
     "metadata": {},
     "output_type": "execute_result"
    }
   ],
   "source": [
    "'Scholarship' in df['Economical class'].values"
   ]
  },
  {
   "cell_type": "markdown",
   "metadata": {},
   "source": [
    "Como podemos ver, temos alunos que se enquadram no grupo de bolsa de estudos. Vamos ver então quantos alunos pertencem a cada possível grupo econômico ('possível grupo econômico' pois estamos adotando algumas premissas com base nos dados que temos para tentar definir esses grupos):"
   ]
  },
  {
   "cell_type": "code",
   "execution_count": 20,
   "metadata": {},
   "outputs": [
    {
     "data": {
      "image/png": "[encoded data removed]",
      "text/plain": [
       "<Figure size 720x360 with 1 Axes>"
      ]
     },
     "metadata": {
      "needs_background": "light"
     },
     "output_type": "display_data"
    }
   ],
   "source": [
    "plt.figure(figsize=(10,5))\n",
    "ax = sns.countplot(x = 'Economical class', data=df, order=['High', 'Medium','Low','Scholarship'], \n",
    "              orient = 'h', saturation=.75, palette = 'Greens_r')\n",
    "\n",
    "for p in ax.patches:\n",
    "    height = p.get_height()\n",
    "    ax.text(p.get_x()+p.get_width()/2., height+3, '{:.0f}'.format(height), ha='center', fontsize=10)"
   ]
  },
  {
   "cell_type": "markdown",
   "metadata": {},
   "source": [
    "Dos 1000 alunos, quase metade se enquadra na classe econômica média, enquanto que mais de 10% são bolsistas (lembrando que essas classes econômicas que criamos são baseadas nas premissas apresentadas anteriormente, e elas não tem relação direta com o dataset original). Seria interessante quebrar esse gráfico em função do nível de escolaridade dos pais. Então, vamos lá:"
   ]
  },
  {
   "cell_type": "code",
   "execution_count": 21,
   "metadata": {},
   "outputs": [
    {
     "data": {
      "image/png": "[encoded data removed]",
      "text/plain": [
       "<Figure size 720x360 with 1 Axes>"
      ]
     },
     "metadata": {
      "needs_background": "light"
     },
     "output_type": "display_data"
    }
   ],
   "source": [
    "plt.figure(figsize=(10,5))\n",
    "ax = sns.countplot(x = 'Economical class', data=df, order=['High', 'Medium','Low','Scholarship'],\n",
    "                   hue_order = [\"master's degree\",\"bachelor's degree\",\"associate's degree\",'some college',\n",
    "                                'high school','some high school'],\n",
    "                   orient = \"h\", saturation=.75, palette = 'Greens_r', hue = 'parental level of education')\n",
    "\n",
    "for p in ax.patches:\n",
    "    height = p.get_height()\n",
    "    ax.text(p.get_x()+p.get_width()/2., height, '{:.0f}'.format(height), ha='center', fontsize=10)"
   ]
  },
  {
   "cell_type": "markdown",
   "metadata": {},
   "source": [
    "Podemos, por fim, constatar que não existe uma relação direta entre a classe econômica e o nível de escolaridade dos pais dos alunos. Para que essa relação exista, deveríamos ver a classe High com a maior quantidade de pais com mestrado e a classe Low com a menor quantidade. Porém sabemos que apenas escolaridade não é sinônimo de riqueza, então faz sentido, com os dados que temos, não existir essa relação direta entre escolaridade dos pais e classe econômica do filho. Até porque não temos dados que mostram a idade dos filhos, logo não sabemos se são crianças ou adultos."
   ]
  },
  {
   "cell_type": "markdown",
   "metadata": {},
   "source": [
    "# Resumindo a análise"
   ]
  },
  {
   "cell_type": "markdown",
   "metadata": {},
   "source": [
    "● Vimos que as meninas/mulheres são a maioria dos alunos e também possuem as maiores notas em todas as matérias e, logicamente, possuem percentual de aprovação maior que os meninos/homens.\n",
    "\n",
    "● Vimos também que o nível de escolaridade dos pais está diretamente ligado às notas dos alunos, ou seja, quanto maior o nível de escolaridade dos pais, maior a nota do filho.\n",
    "\n",
    "● A seguir verificamos a influência de cursos preparatórios na nota de cada matéria e novamente constatamos que os cursos ajudaram os alunos a atingir notas maiores (lembrando que não temos detalhes de que tipo de curso é esse, sua duração ou frequência).\n",
    "\n",
    "● Depois comparamos as notas dos grupos étnicos, e vimos que o grupo A possuem as menores notas, tanto para os meninos quanto para as meninas, e o grupo E possui as maiores notas para os meninos e meninas.\n",
    "\n",
    "● Por fim, criamos critérios para compor nossa classificação econômica de cada aluno e com ela podemos concluir que a maior parte dos alunos pertence a classe média criada e que o nível de escolaridade dos pais não tem relação direta com a classe econômica correspondente do filho."
   ]
  },
  {
   "cell_type": "markdown",
   "metadata": {},
   "source": [
    "# FIM"
   ]
  },
  {
   "cell_type": "markdown",
   "metadata": {},
   "source": [
    "Muito obrigado por chegar até aqui. Saiba que esse é o primeiro trabalho de muitos, e por ser o primeiro, podem existir muitas imprecisões e erros no código ou na análise. Sinta-se à vontade para deixar sua dica ou crítica. Obrigado novamente e até a próxima!"
   ]
  }
 ],
 "metadata": {
  "celltoolbar": "Raw Cell Format",
  "kernelspec": {
   "display_name": "Python 3",
   "language": "python",
   "name": "python3"
  },
  "language_info": {
   "codemirror_mode": {
    "name": "ipython",
    "version": 3
   },
   "file_extension": ".py",
   "mimetype": "text/x-python",
   "name": "python",
   "nbconvert_exporter": "python",
   "pygments_lexer": "ipython3",
   "version": "3.7.6"
  }
 },
 "nbformat": 4,
 "nbformat_minor": 4
}
