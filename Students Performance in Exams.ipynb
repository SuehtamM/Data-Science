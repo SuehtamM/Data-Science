{
 "cells": [
  {
   "cell_type": "markdown",
   "metadata": {},
   "source": [
    "# Análise exploratória de um dataset sobre notas escolares.\n",
    "O dataset utilizado como base de dados pode ser encontrado em: https://www.kaggle.com/spscientist/students-performance-in-exams\n",
    "\n",
    "Nesse notebook vamos analisar o dataset em questão e fazer algumas exibições de dados como:\n",
    "\n",
    "\n",
    "● Distribuição de notas por gênero e a influência de cursos de preparação nas notas;\n",
    "\n",
    "● Relação entre a escolaridade dos pais e as notas dos alunos;\n",
    "\n",
    "● Relação entre a nota de leitura e a nota de escrita;\n",
    "\n",
    "● Nota média para as 3 disciplinas por gênero;\n",
    "\n",
    "\n",
    "\n",
    "O intuito desse notebook é apenas extrair, exibir e, se possível, correlacionar os dados a fim de inferir possíveis padrões e conclusões. O objetivo final é exercitar a utilização da linguagem python para extrair informações de bases de dados utilizando tabelas e gráficos.\n",
    "\n",
    "Para mais informações sobre os dados do dataset, visite o link acima."
   ]
  },
  {
   "cell_type": "markdown",
   "metadata": {},
   "source": [
    "# Importando as bibliotecas e os dados\n",
    "Primeiro começamos com os imports:"
   ]
  },
  {
   "cell_type": "code",
   "execution_count": 1,
   "metadata": {},
   "outputs": [],
   "source": [
    "import pandas as pd\n",
    "import numpy as np\n",
    "import matplotlib.pyplot as plt\n",
    "import seaborn as sns\n",
    "sns.set_style(style = 'whitegrid')\n",
    "%matplotlib inline"
   ]
  },
  {
   "cell_type": "markdown",
   "metadata": {},
   "source": [
    "Com as bibliotecas importadas, vamos dar uma olhada nos dados:"
   ]
  },
  {
   "cell_type": "code",
   "execution_count": 2,
   "metadata": {},
   "outputs": [
    {
     "data": {
      "text/html": [
       "<div>\n",
       "<style scoped>\n",
       "    .dataframe tbody tr th:only-of-type {\n",
       "        vertical-align: middle;\n",
       "    }\n",
       "\n",
       "    .dataframe tbody tr th {\n",
       "        vertical-align: top;\n",
       "    }\n",
       "\n",
       "    .dataframe thead th {\n",
       "        text-align: right;\n",
       "    }\n",
       "</style>\n",
       "<table border=\"1\" class=\"dataframe\">\n",
       "  <thead>\n",
       "    <tr style=\"text-align: right;\">\n",
       "      <th></th>\n",
       "      <th>gender</th>\n",
       "      <th>race/ethnicity</th>\n",
       "      <th>parental level of education</th>\n",
       "      <th>lunch</th>\n",
       "      <th>test preparation course</th>\n",
       "      <th>math score</th>\n",
       "      <th>reading score</th>\n",
       "      <th>writing score</th>\n",
       "    </tr>\n",
       "  </thead>\n",
       "  <tbody>\n",
       "    <tr>\n",
       "      <th>0</th>\n",
       "      <td>female</td>\n",
       "      <td>group B</td>\n",
       "      <td>bachelor's degree</td>\n",
       "      <td>standard</td>\n",
       "      <td>none</td>\n",
       "      <td>72</td>\n",
       "      <td>72</td>\n",
       "      <td>74</td>\n",
       "    </tr>\n",
       "    <tr>\n",
       "      <th>1</th>\n",
       "      <td>female</td>\n",
       "      <td>group C</td>\n",
       "      <td>some college</td>\n",
       "      <td>standard</td>\n",
       "      <td>completed</td>\n",
       "      <td>69</td>\n",
       "      <td>90</td>\n",
       "      <td>88</td>\n",
       "    </tr>\n",
       "    <tr>\n",
       "      <th>2</th>\n",
       "      <td>female</td>\n",
       "      <td>group B</td>\n",
       "      <td>master's degree</td>\n",
       "      <td>standard</td>\n",
       "      <td>none</td>\n",
       "      <td>90</td>\n",
       "      <td>95</td>\n",
       "      <td>93</td>\n",
       "    </tr>\n",
       "    <tr>\n",
       "      <th>3</th>\n",
       "      <td>male</td>\n",
       "      <td>group A</td>\n",
       "      <td>associate's degree</td>\n",
       "      <td>free/reduced</td>\n",
       "      <td>none</td>\n",
       "      <td>47</td>\n",
       "      <td>57</td>\n",
       "      <td>44</td>\n",
       "    </tr>\n",
       "    <tr>\n",
       "      <th>4</th>\n",
       "      <td>male</td>\n",
       "      <td>group C</td>\n",
       "      <td>some college</td>\n",
       "      <td>standard</td>\n",
       "      <td>none</td>\n",
       "      <td>76</td>\n",
       "      <td>78</td>\n",
       "      <td>75</td>\n",
       "    </tr>\n",
       "  </tbody>\n",
       "</table>\n",
       "</div>"
      ],
      "text/plain": [
       "   gender race/ethnicity parental level of education         lunch  \\\n",
       "0  female        group B           bachelor's degree      standard   \n",
       "1  female        group C                some college      standard   \n",
       "2  female        group B             master's degree      standard   \n",
       "3    male        group A          associate's degree  free/reduced   \n",
       "4    male        group C                some college      standard   \n",
       "\n",
       "  test preparation course  math score  reading score  writing score  \n",
       "0                    none          72             72             74  \n",
       "1               completed          69             90             88  \n",
       "2                    none          90             95             93  \n",
       "3                    none          47             57             44  \n",
       "4                    none          76             78             75  "
      ]
     },
     "execution_count": 2,
     "metadata": {},
     "output_type": "execute_result"
    }
   ],
   "source": [
    "df = pd.read_csv(\"StudentsPerformance.csv\")\n",
    "df.head()"
   ]
  },
  {
   "cell_type": "code",
   "execution_count": 3,
   "metadata": {},
   "outputs": [
    {
     "data": {
      "text/plain": [
       "False"
      ]
     },
     "execution_count": 3,
     "metadata": {},
     "output_type": "execute_result"
    }
   ],
   "source": [
    "True in df.isnull()"
   ]
  },
  {
   "cell_type": "code",
   "execution_count": 4,
   "metadata": {},
   "outputs": [
    {
     "data": {
      "text/plain": [
       "RangeIndex(start=0, stop=1000, step=1)"
      ]
     },
     "execution_count": 4,
     "metadata": {},
     "output_type": "execute_result"
    }
   ],
   "source": [
    "df.index"
   ]
  },
  {
   "cell_type": "code",
   "execution_count": 5,
   "metadata": {},
   "outputs": [],
   "source": [
    "df_i = df.drop(labels = ['math score','reading score','writing score'], axis = 1)"
   ]
  },
  {
   "cell_type": "code",
   "execution_count": 6,
   "metadata": {},
   "outputs": [
    {
     "name": "stdout",
     "output_type": "stream",
     "text": [
      "\n",
      "Os valores únicos da coluna gender são: ['female' 'male']\n",
      "\n",
      "Os valores únicos da coluna race/ethnicity são: ['group B' 'group C' 'group A' 'group D' 'group E']\n",
      "\n",
      "Os valores únicos da coluna parental level of education são: [\"bachelor's degree\" 'some college' \"master's degree\" \"associate's degree\"\n",
      " 'high school' 'some high school']\n",
      "\n",
      "Os valores únicos da coluna lunch são: ['standard' 'free/reduced']\n",
      "\n",
      "Os valores únicos da coluna test preparation course são: ['none' 'completed']\n"
     ]
    }
   ],
   "source": [
    "for coluna in df_i.columns:\n",
    "    print(f'\\nOs valores únicos da coluna {coluna} são:', df_i[coluna].unique())"
   ]
  },
  {
   "cell_type": "markdown",
   "metadata": {},
   "source": [
    "Agora que sabemos os possíveis dados em cada coluna, excluindo as colunas de notas, e que não existem valores nulos no dataset, podemos começar a visualizar de fato as informações e relações entre esses dados.\n",
    "\n",
    "Note que na coluna 'test preparation course' temos como entrada 'none' em algumas linhas. Podemos partir do ponto de vista que esses dados deveriam ser dados missing. Mas como não existe nenhuma especificação de qual tipo de curso os alunos fizeram, nem nessa mesma coluna nem em outra, logo, podemos considerar 'none' como uma entrada válida."
   ]
  },
  {
   "cell_type": "markdown",
   "metadata": {},
   "source": [
    "Uma possível forma de classificar os alunos por meio de suas notas seria calcular a média simples ou ponderada de cada um. Vamos considerar que cada nota tem um mesmo peso para aprovação, portanto, caso a média do(a) aluno(a) seja maior que 60 pontos, ele(a) será aprovado(a). Caso contrário, será reprovado(a).\n",
    "\n",
    "Sendo assim, vamos adicionar duas colunas ao dataset: mean e approvation."
   ]
  },
  {
   "cell_type": "code",
   "execution_count": 7,
   "metadata": {},
   "outputs": [],
   "source": [
    "mean = [round(((df['math score'][line]+df['reading score'][line]+df['writing score'][line])/3),2) for line in df.index]\n",
    "df['mean'] = mean"
   ]
  },
  {
   "cell_type": "code",
   "execution_count": 8,
   "metadata": {},
   "outputs": [],
   "source": [
    "approvation = ['Yes' if score>=60 else 'No' for score in df['mean']]\n",
    "df['approvation'] = approvation"
   ]
  },
  {
   "cell_type": "code",
   "execution_count": 9,
   "metadata": {
    "scrolled": true
   },
   "outputs": [
    {
     "data": {
      "text/html": [
       "<div>\n",
       "<style scoped>\n",
       "    .dataframe tbody tr th:only-of-type {\n",
       "        vertical-align: middle;\n",
       "    }\n",
       "\n",
       "    .dataframe tbody tr th {\n",
       "        vertical-align: top;\n",
       "    }\n",
       "\n",
       "    .dataframe thead th {\n",
       "        text-align: right;\n",
       "    }\n",
       "</style>\n",
       "<table border=\"1\" class=\"dataframe\">\n",
       "  <thead>\n",
       "    <tr style=\"text-align: right;\">\n",
       "      <th></th>\n",
       "      <th>gender</th>\n",
       "      <th>race/ethnicity</th>\n",
       "      <th>parental level of education</th>\n",
       "      <th>lunch</th>\n",
       "      <th>test preparation course</th>\n",
       "      <th>math score</th>\n",
       "      <th>reading score</th>\n",
       "      <th>writing score</th>\n",
       "      <th>mean</th>\n",
       "      <th>approvation</th>\n",
       "    </tr>\n",
       "  </thead>\n",
       "  <tbody>\n",
       "    <tr>\n",
       "      <th>0</th>\n",
       "      <td>female</td>\n",
       "      <td>group B</td>\n",
       "      <td>bachelor's degree</td>\n",
       "      <td>standard</td>\n",
       "      <td>none</td>\n",
       "      <td>72</td>\n",
       "      <td>72</td>\n",
       "      <td>74</td>\n",
       "      <td>72.67</td>\n",
       "      <td>Yes</td>\n",
       "    </tr>\n",
       "    <tr>\n",
       "      <th>1</th>\n",
       "      <td>female</td>\n",
       "      <td>group C</td>\n",
       "      <td>some college</td>\n",
       "      <td>standard</td>\n",
       "      <td>completed</td>\n",
       "      <td>69</td>\n",
       "      <td>90</td>\n",
       "      <td>88</td>\n",
       "      <td>82.33</td>\n",
       "      <td>Yes</td>\n",
       "    </tr>\n",
       "    <tr>\n",
       "      <th>2</th>\n",
       "      <td>female</td>\n",
       "      <td>group B</td>\n",
       "      <td>master's degree</td>\n",
       "      <td>standard</td>\n",
       "      <td>none</td>\n",
       "      <td>90</td>\n",
       "      <td>95</td>\n",
       "      <td>93</td>\n",
       "      <td>92.67</td>\n",
       "      <td>Yes</td>\n",
       "    </tr>\n",
       "    <tr>\n",
       "      <th>3</th>\n",
       "      <td>male</td>\n",
       "      <td>group A</td>\n",
       "      <td>associate's degree</td>\n",
       "      <td>free/reduced</td>\n",
       "      <td>none</td>\n",
       "      <td>47</td>\n",
       "      <td>57</td>\n",
       "      <td>44</td>\n",
       "      <td>49.33</td>\n",
       "      <td>No</td>\n",
       "    </tr>\n",
       "    <tr>\n",
       "      <th>4</th>\n",
       "      <td>male</td>\n",
       "      <td>group C</td>\n",
       "      <td>some college</td>\n",
       "      <td>standard</td>\n",
       "      <td>none</td>\n",
       "      <td>76</td>\n",
       "      <td>78</td>\n",
       "      <td>75</td>\n",
       "      <td>76.33</td>\n",
       "      <td>Yes</td>\n",
       "    </tr>\n",
       "  </tbody>\n",
       "</table>\n",
       "</div>"
      ],
      "text/plain": [
       "   gender race/ethnicity parental level of education         lunch  \\\n",
       "0  female        group B           bachelor's degree      standard   \n",
       "1  female        group C                some college      standard   \n",
       "2  female        group B             master's degree      standard   \n",
       "3    male        group A          associate's degree  free/reduced   \n",
       "4    male        group C                some college      standard   \n",
       "\n",
       "  test preparation course  math score  reading score  writing score   mean  \\\n",
       "0                    none          72             72             74  72.67   \n",
       "1               completed          69             90             88  82.33   \n",
       "2                    none          90             95             93  92.67   \n",
       "3                    none          47             57             44  49.33   \n",
       "4                    none          76             78             75  76.33   \n",
       "\n",
       "  approvation  \n",
       "0         Yes  \n",
       "1         Yes  \n",
       "2         Yes  \n",
       "3          No  \n",
       "4         Yes  "
      ]
     },
     "execution_count": 9,
     "metadata": {},
     "output_type": "execute_result"
    }
   ],
   "source": [
    "df.head()"
   ]
  },
  {
   "cell_type": "markdown",
   "metadata": {},
   "source": [
    "# Visualizando as informações\n",
    "Vamos começar verificando a distribuição por gênero:"
   ]
  },
  {
   "cell_type": "code",
   "execution_count": 63,
   "metadata": {},
   "outputs": [
    {
     "data": {
      "image/png": "[encoded data removed]",
      "text/plain": [
       "<Figure size 720x360 with 1 Axes>"
      ]
     },
     "metadata": {},
     "output_type": "display_data"
    }
   ],
   "source": [
    "plt.figure(figsize=(10,5))\n",
    "plt.pie(df['gender'].value_counts(), labels = df['gender'].unique(), autopct = \"%.f%%\", shadow = True, startangle=90,\n",
    "       colors = ['salmon', 'paleturquoise'])\n",
    "plt.title('Gender %', fontsize=16)\n",
    "plt.show()"
   ]
  },
  {
   "cell_type": "markdown",
   "metadata": {},
   "source": [
    "Mais mulhers (51.8%) do que homens (48.2%). Vamos verificar a distribuição das notas de cada matéria e da média, e vamos ver também a porcentagem de alunos aprovados:"
   ]
  },
  {
   "cell_type": "code",
   "execution_count": 11,
   "metadata": {},
   "outputs": [
    {
     "data": {
      "image/png": "[encoded data removed]",
      "text/plain": [
       "<Figure size 1080x360 with 4 Axes>"
      ]
     },
     "metadata": {
      "needs_background": "light"
     },
     "output_type": "display_data"
    }
   ],
   "source": [
    "plt.figure(figsize=(15,5))\n",
    "\n",
    "plt.subplot(1,4,1)\n",
    "plt.hist(x = 'math score', data = df, bins = 25, color = 'cornflowerblue')\n",
    "plt.axvline(df['math score'].mean(), color = 'k', linestyle='dashed', linewidth=1)\n",
    "plt.title('Math score')\n",
    "plt.xlabel('Nota')\n",
    "plt.ylabel('Quantidade')\n",
    "plt.ylim((0,110))\n",
    "plt.xlim((0,105))\n",
    "plt.grid()\n",
    "\n",
    "plt.subplot(1,4,2)\n",
    "plt.hist(x = 'reading score', data = df, bins = 25, color = 'cornflowerblue')\n",
    "plt.axvline(df['reading score'].mean(), color = 'k', linestyle='dashed', linewidth=1)\n",
    "plt.title('Reading score')\n",
    "plt.xlabel('Nota')\n",
    "plt.ylim((0,110))\n",
    "plt.xlim()\n",
    "plt.grid()\n",
    "\n",
    "plt.subplot(1,4,3)\n",
    "plt.hist(x = 'writing score', data = df, bins = 25, color = 'cornflowerblue')\n",
    "plt.axvline(df['writing score'].mean(), color = 'k', linestyle='dashed', linewidth=1)\n",
    "plt.title('Writing score')\n",
    "plt.xlabel('Nota')\n",
    "plt.ylim((0,110))\n",
    "plt.xlim((0,105))\n",
    "plt.grid()\n",
    "\n",
    "plt.subplot(1,4,4)\n",
    "plt.hist(x = 'mean', data = df, bins = 25, color = 'cornflowerblue')\n",
    "plt.axvline(df['mean'].mean(), color = 'k', linestyle='dashed', linewidth=1)\n",
    "plt.title('Mean')\n",
    "plt.xlabel('Nota')\n",
    "plt.ylim((0,110))\n",
    "plt.xlim((0,105))\n",
    "plt.grid()"
   ]
  },
  {
   "cell_type": "code",
   "execution_count": 12,
   "metadata": {},
   "outputs": [
    {
     "name": "stdout",
     "output_type": "stream",
     "text": [
      "As médias de cada matéria, mostradas nos histogramas acima como linha preta pontilhada, são:\n",
      "Math       66.09\n",
      "Reading    69.17\n",
      "Writing    68.05\n",
      "Mean       67.77\n",
      "dtype: float64\n"
     ]
    }
   ],
   "source": [
    "means = pd.Series({'Math':round(df['math score'].mean(),2),\n",
    "                   'Reading':round(df['reading score'].mean(),2),\n",
    "                   'Writing':round(df['writing score'].mean(),2),\n",
    "                   'Mean':round(df['mean'].mean(),2)})\n",
    "print('As médias de cada matéria, mostradas nos histogramas acima como linha preta pontilhada, são:\\n',means, sep='')"
   ]
  },
  {
   "cell_type": "code",
   "execution_count": 13,
   "metadata": {},
   "outputs": [
    {
     "name": "stdout",
     "output_type": "stream",
     "text": [
      "Dos 1000 alunos, 715 foram aprovados e 285 foram reprovados.\n",
      "Ou 71.5% aprovados e 28.5% reprovados.\n",
      "\n",
      "Dos aprovados, 321 são homens (44.9%) e 394 são mulheres (55.1%).\n",
      "E dos reprovados, 161 são homens (56.5%) e 124 são mulheres (43.5%).\n",
      "\n"
     ]
    }
   ],
   "source": [
    "approved = 0\n",
    "for data in df['approvation']:\n",
    "    if data == 'Yes':\n",
    "        approved += 1\n",
    "        \n",
    "disapproved = df['approvation'].count() - approved\n",
    "total = df['approvation'].count()\n",
    "\n",
    "appr_male = 0\n",
    "disap_male = 0\n",
    "appr_female = 0\n",
    "disap_female = 0\n",
    "for i in df['approvation'].index:\n",
    "    if df['approvation'][i] == 'Yes' and df['gender'][i] == 'male':\n",
    "        appr_male += 1\n",
    "    elif df['approvation'][i] == 'No' and df['gender'][i] == 'male':\n",
    "        disap_male += 1\n",
    "    elif df['approvation'][i] == 'Yes' and df['gender'][i] == 'female':\n",
    "        appr_female += 1\n",
    "    else:\n",
    "        disap_female += 1\n",
    "\n",
    "total_appr = appr_male+appr_female\n",
    "total_disap = disap_male+disap_female\n",
    "\n",
    "#total approved/disapproved\n",
    "print(f\"Dos {total} alunos, {approved} foram aprovados e {disapproved} foram reprovados.\")\n",
    "\n",
    "#total approved/disapproved percentage\n",
    "print(f\"Ou {round((approved/total*100),1)}% aprovados e {round((disapproved/total*100), 1)}% reprovados.\\n\")\n",
    "\n",
    "#approved by gender\n",
    "print(f\"Dos aprovados, {appr_male} são homens ({round(appr_male/total_appr*100,1)}%) e \\\n",
    "{appr_female} são mulheres ({round(appr_female/total_appr*100,1)}%).\")\n",
    "\n",
    "#disapproved by gender\n",
    "print(f\"E dos reprovados, {disap_male} são homens ({round(disap_male/total_disap*100,1)}%) e \\\n",
    "{disap_female} são mulheres ({round(disap_female/total_disap*100,1)}%).\\n\")"
   ]
  },
  {
   "cell_type": "markdown",
   "metadata": {},
   "source": [
    "Graficamente:"
   ]
  },
  {
   "cell_type": "code",
   "execution_count": 61,
   "metadata": {},
   "outputs": [
    {
     "data": {
      "image/png": "[encoded data removed]",
      "text/plain": [
       "<Figure size 864x576 with 1 Axes>"
      ]
     },
     "metadata": {},
     "output_type": "display_data"
    }
   ],
   "source": [
    "plt.figure(figsize=(12,8))\n",
    "plt.pie(x = [approved,disapproved], autopct = '%.1f%%', pctdistance=.85,\n",
    "        radius = 1, colors = ['seagreen','r'],wedgeprops=dict(width=.3))\n",
    "plt.pie(x = [appr_male,appr_female,disap_male,disap_female], autopct = '%.1f%%', pctdistance=.8,\n",
    "        colors = ['paleturquoise','salmon','c','tomato'] ,radius = .7, wedgeprops=dict(width=.3))\n",
    "plt.legend(('Approved total','Disapproved total','Approved Male','Approved Female', 'Disapproved Male','Disapproved Female'))\n",
    "plt.title('Approvation/Disapprovation', fontsize=16)\n",
    "plt.show()"
   ]
  },
  {
   "cell_type": "markdown",
   "metadata": {},
   "source": [
    "Com os histogramas apresentados podemos constatar que apenas em matemática algum(s) aluno(s) teve uma nota bem próxima de zero. Como as médias das matérias individuais são todas maiores que 60, já podemos inferir que a média dos alunos seriam aprovados. O dado mais preciso, como mostrado acima, é que 71.5% dos alunos foram aprovados e desses, a maior parte são mulheres.\n",
    "Outro ponto interessante é que a distribuição das notas de leitura é bem diferente da distribuição da nota de escrita, além da média de escrita ser menor que a de leitura. Isso significa, nessa análise para esse dataset, que a boa escrita não está, necessariamente, associada a boa leitura/interpretação de texto (considerando que 'reading' possa siginicar o ato de ler e interpretar o que está sendo lido).\n",
    "\n",
    "Agora veremos qual a influência da escolaridade dos pais dos alunos em relação às suas notas."
   ]
  },
  {
   "cell_type": "code",
   "execution_count": 15,
   "metadata": {},
   "outputs": [
    {
     "data": {
      "image/png": "[encoded data removed]",
      "text/plain": [
       "<Figure size 1080x360 with 4 Axes>"
      ]
     },
     "metadata": {
      "needs_background": "light"
     },
     "output_type": "display_data"
    }
   ],
   "source": [
    "plt.figure(figsize=(15,5))\n",
    "\n",
    "plt.subplot(1,4,1)\n",
    "plt.xticks(rotation = 90)\n",
    "plt.ylim((0,80))\n",
    "sns.barplot(x = 'parental level of education', y = 'math score', palette = 'Blues', \n",
    "            order = ['some high school','high school','some college',\"associate's degree\",\"bachelor's degree\",\n",
    "                     \"master's degree\"], errwidth = 0, data = df)\n",
    "\n",
    "\n",
    "plt.subplot(1,4,2)\n",
    "plt.xticks(rotation = 90)\n",
    "plt.ylim((0,80))\n",
    "sns.barplot(x = 'parental level of education', y = 'reading score', palette = 'Blues',\n",
    "            order = ['some high school','high school','some college',\"associate's degree\",\"bachelor's degree\",\n",
    "                    \"master's degree\"], errwidth = 0, data = df)\n",
    "\n",
    "\n",
    "plt.subplot(1,4,3)\n",
    "plt.xticks(rotation = 90)\n",
    "plt.ylim((0,80))\n",
    "sns.barplot(x = 'parental level of education', y = 'writing score', palette = 'Blues', \n",
    "            order = ['some high school','high school','some college',\"associate's degree\",\"bachelor's degree\",\n",
    "                    \"master's degree\"], errwidth = 0, data = df)\n",
    "\n",
    "\n",
    "plt.subplot(1,4,4)\n",
    "plt.xticks(rotation = 90)\n",
    "plt.ylim((0,80))\n",
    "sns.barplot(x = 'parental level of education', y = 'mean', palette = 'Blues',\n",
    "            order = ['some high school','high school','some college',\"associate's degree\",\"bachelor's degree\",\n",
    "                    \"master's degree\"], errwidth = 0, data = df)\n",
    "plt.show()"
   ]
  },
  {
   "cell_type": "markdown",
   "metadata": {},
   "source": [
    "Podemos ver claramente que quanto maior o nível de escolaridade dos pais, com exceção ao nível high school, maiores as notas individuais, portanto, maiores as médias."
   ]
  },
  {
   "cell_type": "markdown",
   "metadata": {},
   "source": [
    "Agora veremos a influência de cursos preparatórios nas notas finais dos alunos."
   ]
  },
  {
   "cell_type": "code",
   "execution_count": 16,
   "metadata": {},
   "outputs": [
    {
     "data": {
      "image/png": "[encoded data removed]",
      "text/plain": [
       "<Figure size 1080x360 with 4 Axes>"
      ]
     },
     "metadata": {
      "needs_background": "light"
     },
     "output_type": "display_data"
    }
   ],
   "source": [
    "plt.figure(figsize=(15,5))\n",
    "\n",
    "plt.subplot(1,4,1)\n",
    "plt.ylim((0,75))\n",
    "sns.barplot(x = 'test preparation course', y = 'math score', errwidth = 0, palette = 'Greens',data = df)\n",
    "\n",
    "plt.subplot(1,4,2)\n",
    "plt.ylim((0,75))\n",
    "sns.barplot(x = 'test preparation course', y = 'reading score', errwidth = 0, palette = 'Greens',data = df)\n",
    "\n",
    "plt.subplot(1,4,3)\n",
    "plt.ylim((0,75))\n",
    "sns.barplot(x = 'test preparation course', y = 'writing score', errwidth = 0, palette = 'Greens', data = df)\n",
    "\n",
    "plt.subplot(1,4,4)\n",
    "plt.ylim((0,75))\n",
    "sns.barplot(x = 'test preparation course', y = 'mean', errwidth = 0, palette = 'Greens',data = df)\n",
    "\n",
    "plt.show()"
   ]
  },
  {
   "cell_type": "markdown",
   "metadata": {},
   "source": [
    "Para esse estudo, os cursos de preparação se converteram em notas maiores. Vale ressaltar que não estamos especificando qual tipo de curso, duração ou frequência. Portanto não podemos afirmar nem que o aumento da nota foi satisfatório e nem que foi abaixo do esperado."
   ]
  },
  {
   "cell_type": "code",
   "execution_count": 17,
   "metadata": {},
   "outputs": [],
   "source": [
    "#relação entre as notas de leitura e escrita\n"
   ]
  },
  {
   "cell_type": "code",
   "execution_count": 18,
   "metadata": {},
   "outputs": [],
   "source": [
    "#nota por genero"
   ]
  },
  {
   "cell_type": "code",
   "execution_count": 64,
   "metadata": {},
   "outputs": [
    {
     "ename": "SyntaxError",
     "evalue": "invalid syntax (<ipython-input-64-fc125001782a>, line 1)",
     "output_type": "error",
     "traceback": [
      "\u001b[1;36m  File \u001b[1;32m\"<ipython-input-64-fc125001782a>\"\u001b[1;36m, line \u001b[1;32m1\u001b[0m\n\u001b[1;33m    sofnsdonbçxnçaignbsoibnsnbsnvnciobsnfpjogeoheíjgdkfgwelfpcmv9 táerja gaj[g [eg jr´gj´0rgj aw9j ´s jg´0irjgr´g]]\u001b[0m\n\u001b[1;37m                                                                       ^\u001b[0m\n\u001b[1;31mSyntaxError\u001b[0m\u001b[1;31m:\u001b[0m invalid syntax\n"
     ]
    }
   ],
   "source": []
  },
  {
   "cell_type": "code",
   "execution_count": null,
   "metadata": {},
   "outputs": [],
   "source": []
  }
 ],
 "metadata": {
  "celltoolbar": "Raw Cell Format",
  "kernelspec": {
   "display_name": "Python 3",
   "language": "python",
   "name": "python3"
  },
  "language_info": {
   "codemirror_mode": {
    "name": "ipython",
    "version": 3
   },
   "file_extension": ".py",
   "mimetype": "text/x-python",
   "name": "python",
   "nbconvert_exporter": "python",
   "pygments_lexer": "ipython3",
   "version": "3.7.6"
  }
 },
 "nbformat": 4,
 "nbformat_minor": 4
}
